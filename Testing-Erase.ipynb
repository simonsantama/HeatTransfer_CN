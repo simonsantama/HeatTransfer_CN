{
 "cells": [
  {
   "cell_type": "code",
   "execution_count": 2,
   "metadata": {},
   "outputs": [],
   "source": [
    "import numpy as np"
   ]
  },
  {
   "cell_type": "code",
   "execution_count": 3,
   "metadata": {},
   "outputs": [
    {
     "name": "stdout",
     "output_type": "stream",
     "text": [
      "[  0.     1.01   2.02   3.03   4.04   5.05   6.06   7.07   8.08   9.09\n",
      "  10.1   11.11  12.12  13.13  14.14  15.15  16.16  17.17  18.18  19.19\n",
      "  20.2   21.21  22.22  23.23  24.24  25.25  26.26  27.27  28.28  29.29\n",
      "  30.3   31.31  32.32  33.33  34.34  35.35  36.36  37.37  38.38  39.39\n",
      "  40.4   41.41  42.42  43.43  44.44  45.45  46.46  47.47  48.48  49.49\n",
      "  50.5   51.51  52.52  53.53  54.54  55.55  56.56  57.57  58.58  59.59\n",
      "  60.6   61.61  62.62  63.63  64.64  65.65  66.66  67.67  68.68  69.69\n",
      "  70.7   71.71  72.72  73.73  74.74  75.75  76.76  77.77  78.78  79.79\n",
      "  80.8   81.81  82.82  83.83  84.84  85.85  86.86  87.87  88.88  89.89\n",
      "  90.9   91.91  92.92  93.93  94.94  95.95  96.96  97.97  98.98  99.99\n",
      " 101.  ]\n",
      "(101,)\n"
     ]
    }
   ],
   "source": [
    "b = np.linspace(0,101,101)\n",
    "print(b)\n",
    "print(b.shape)"
   ]
  },
  {
   "cell_type": "code",
   "execution_count": 4,
   "metadata": {},
   "outputs": [
    {
     "name": "stdout",
     "output_type": "stream",
     "text": [
      "[[0.  0.5 0.  ... 0.  0.  0. ]\n",
      " [0.5 0.  0.5 ... 0.  0.  0. ]\n",
      " [0.  0.5 0.  ... 0.  0.  0. ]\n",
      " ...\n",
      " [0.  0.  0.  ... 0.  0.5 0. ]\n",
      " [0.  0.  0.  ... 0.5 0.  0.5]\n",
      " [0.  0.  0.  ... 0.  0.5 0. ]]\n",
      "(101, 101)\n"
     ]
    }
   ],
   "source": [
    "sigma = 0.5\n",
    "space_mesh_division = 101\n",
    "B = np.diagflat([sigma for i in range(space_mesh_division - 1)], -1) +\\\n",
    "        np.diagflat([1 - 2 * sigma for i in range(space_mesh_division)]) +\\\n",
    "        np.diagflat([sigma for i in range(space_mesh_division - 1)], 1)\n",
    "print(B)\n",
    "print(B.shape)"
   ]
  },
  {
   "cell_type": "code",
   "execution_count": 5,
   "metadata": {},
   "outputs": [
    {
     "data": {
      "text/plain": [
       "array([ 1.01,  2.02,  3.03,  4.04,  5.05,  6.06,  7.07,  8.08,  9.09,\n",
       "       10.1 , 11.11, 12.12, 13.13, 14.14, 15.15, 16.16, 17.17, 18.18,\n",
       "       19.19, 20.2 , 21.21, 22.22, 23.23, 24.24, 25.25, 26.26, 27.27,\n",
       "       28.28, 29.29, 30.3 , 31.31, 32.32, 33.33, 34.34, 35.35, 36.36,\n",
       "       37.37, 38.38, 39.39, 40.4 , 41.41, 42.42, 43.43, 44.44, 45.45,\n",
       "       46.46, 47.47, 48.48, 49.49, 50.5 , 51.51, 52.52, 53.53, 54.54,\n",
       "       55.55, 56.56, 57.57, 58.58, 59.59, 60.6 , 61.61, 62.62, 63.63,\n",
       "       64.64, 65.65, 66.66, 67.67, 68.68, 69.69, 70.7 , 71.71, 72.72,\n",
       "       73.73, 74.74, 75.75, 76.76, 77.77, 78.78, 79.79, 80.8 , 81.81,\n",
       "       82.82, 83.83, 84.84, 85.85, 86.86, 87.87, 88.88, 89.89, 90.9 ,\n",
       "       91.91, 92.92, 93.93, 94.94, 95.95, 96.96, 97.97, 98.98, 99.99])"
      ]
     },
     "execution_count": 5,
     "metadata": {},
     "output_type": "execute_result"
    }
   ],
   "source": [
    "b[1:-1]"
   ]
  },
  {
   "cell_type": "code",
   "execution_count": 6,
   "metadata": {},
   "outputs": [
    {
     "name": "stdout",
     "output_type": "stream",
     "text": [
      "[  0.  20.  20.  20.  20.  20.  20.  20.  20.  20.  20.  20.  20.  20.\n",
      "  20.  20.  20.  20.  20.  20.  20.  20.  20.  20.  20.  20.  20.  20.\n",
      "  20.  20.  20.  20.  20.  20.  20.  20.  20.  20.  20.  20.  20.  20.\n",
      "  20.  20.  20.  20.  20.  20.  20.  20.  20.  20.  20.  20.  20.  20.\n",
      "  20.  20.  20.  20.  20.  20.  20.  20.  20.  20.  20.  20.  20.  20.\n",
      "  20.  20.  20.  20.  20.  20.  20.  20.  20.  20.  20.  20.  20.  20.\n",
      "  20.  20.  20.  20.  20.  20.  20.  20.  20.  20.  20.  20.  20.  20.\n",
      "  20.  20. 101.]\n"
     ]
    }
   ],
   "source": [
    "b[1:-1] = B[1:-1].dot(20 + np.zeros(space_mesh_division))\n",
    "print(b)"
   ]
  },
  {
   "cell_type": "code",
   "execution_count": 7,
   "metadata": {},
   "outputs": [
    {
     "name": "stdout",
     "output_type": "stream",
     "text": [
      "[[1 2 3]\n",
      " [4 5 6]\n",
      " [7 8 9]]\n",
      "[10. 10. 10.]\n"
     ]
    }
   ],
   "source": [
    "a = np.array([[1,2,3],[4,5,6],[7,8,9]])\n",
    "c = np.zeros(3)+10\n",
    "print(a)\n",
    "print(c)"
   ]
  },
  {
   "cell_type": "code",
   "execution_count": null,
   "metadata": {},
   "outputs": [],
   "source": [
    "d = a.dot(c)"
   ]
  },
  {
   "cell_type": "code",
   "execution_count": null,
   "metadata": {},
   "outputs": [],
   "source": [
    "d[0]"
   ]
  },
  {
   "cell_type": "code",
   "execution_count": 8,
   "metadata": {},
   "outputs": [
    {
     "ename": "NameError",
     "evalue": "name 'd' is not defined",
     "output_type": "error",
     "traceback": [
      "\u001b[1;31m---------------------------------------------------------------------------\u001b[0m",
      "\u001b[1;31mNameError\u001b[0m                                 Traceback (most recent call last)",
      "\u001b[1;32m<ipython-input-8-1bab3c6dc314>\u001b[0m in \u001b[0;36m<module>\u001b[1;34m\u001b[0m\n\u001b[1;32m----> 1\u001b[1;33m \u001b[0md\u001b[0m\u001b[1;33m[\u001b[0m\u001b[1;33m-\u001b[0m\u001b[1;36m1\u001b[0m\u001b[1;33m]\u001b[0m\u001b[1;33m\u001b[0m\u001b[0m\n\u001b[0m",
      "\u001b[1;31mNameError\u001b[0m: name 'd' is not defined"
     ]
    }
   ],
   "source": [
    "d[-1]"
   ]
  },
  {
   "cell_type": "code",
   "execution_count": null,
   "metadata": {},
   "outputs": [],
   "source": [
    "d[-2]"
   ]
  },
  {
   "cell_type": "code",
   "execution_count": null,
   "metadata": {},
   "outputs": [],
   "source": [
    "d[0:-1]"
   ]
  },
  {
   "cell_type": "code",
   "execution_count": 9,
   "metadata": {},
   "outputs": [
    {
     "name": "stdout",
     "output_type": "stream",
     "text": [
      "15\n",
      "22\n"
     ]
    }
   ],
   "source": [
    "A = (15,22)\n",
    "B,C = A\n",
    "print(B)\n",
    "print(C)"
   ]
  },
  {
   "cell_type": "code",
   "execution_count": null,
   "metadata": {},
   "outputs": [],
   "source": []
  }
 ],
 "metadata": {
  "kernelspec": {
   "display_name": "Python 3",
   "language": "python",
   "name": "python3"
  },
  "language_info": {
   "codemirror_mode": {
    "name": "ipython",
    "version": 3
   },
   "file_extension": ".py",
   "mimetype": "text/x-python",
   "name": "python",
   "nbconvert_exporter": "python",
   "pygments_lexer": "ipython3",
   "version": "3.6.6"
  }
 },
 "nbformat": 4,
 "nbformat_minor": 2
}
