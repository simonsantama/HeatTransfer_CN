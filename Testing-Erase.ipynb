{
 "cells": [
  {
   "cell_type": "code",
   "execution_count": 2,
   "metadata": {},
   "outputs": [],
   "source": [
    "import numpy as np"
   ]
  },
  {
   "cell_type": "code",
   "execution_count": 14,
   "metadata": {},
   "outputs": [],
   "source": [
    "sample_depth = 0.025          # meters\n",
    "space_mesh_divisions = 101    # (-)\n",
    "time_duration = 600           # seconds\n",
    "time_mesh_divisions = 1000    # (-)\n",
    "sample_material = \"PMMA\"      # PMMA, PA6, TIMBER, ALUMINIUM\n",
    "initial_temperature = 20      # C\n",
    "aluminium_depth = 0.02        # meters\n",
    "\n",
    "# ---- DEFINE PLOTTING LIMITS\n",
    "\n",
    "x_lim_inicond = [0, sample_depth]\n",
    "y_lim_inicond = [0, initial_temperature + 25]\n",
    "x_lim_other = [0, sample_depth]\n",
    "y_lim_other = [0, 550]\n",
    "figure_size = (16, 12)\n",
    "\n",
    "\n",
    "# --- DEFINE THE BOUNDARY CONDITIONS\n",
    "\n",
    "BC_surface = \"conv_rad\"                              # \"const_temp\", \"const_nhf\", \"convection\", \"conv_rad\"\n",
    "BC_back = \"semi_inf\"                                 # \"semi-inf\", \"insulated\" or \"al_block\"\n",
    "surface_temperature = 200                            # Define the surface temperature in C\n",
    "surface_nhf = 20                                     # Define surface nhf in kW/m2\n",
    "air_temperature = 20                                 # C\n",
    "h_convective = 0.015                                 # kW/m2K\n",
    "q_incident = 20 + np.zeros(time_mesh_divisions + 1)  # kW/m2"
   ]
  },
  {
   "cell_type": "code",
   "execution_count": 19,
   "metadata": {},
   "outputs": [],
   "source": [
    "# Dictionary contains arguments that vary depending on the chosen boundary condition\n",
    "BC_values = {\"const_temp\": (surface_temperature, initial_temperature),\n",
    "             \"const_nhf\": (surface_nhf, initial_temperature),\n",
    "             \"convection\": (h_convective, initial_temperature, air_temperature),\n",
    "             \"conv_rad\": (h_convective, initial_temperature, air_temperature, q_incident)\n",
    "             }"
   ]
  },
  {
   "cell_type": "code",
   "execution_count": 26,
   "metadata": {},
   "outputs": [
    {
     "name": "stdout",
     "output_type": "stream",
     "text": [
      "5.67e-05\n",
      "[20. 20. 20. 20. 20. 20. 20. 20. 20. 20. 20. 20. 20. 20. 20. 20. 20. 20.\n",
      " 20. 20. 20. 20. 20. 20. 20. 20. 20. 20. 20. 20. 20. 20. 20. 20. 20. 20.\n",
      " 20. 20. 20. 20. 20. 20. 20. 20. 20. 20. 20. 20. 20. 20. 20. 20. 20. 20.\n",
      " 20. 20. 20. 20. 20. 20. 20. 20. 20. 20. 20. 20. 20. 20. 20. 20. 20. 20.\n",
      " 20. 20. 20. 20. 20. 20. 20. 20. 20. 20. 20. 20. 20. 20. 20. 20. 20. 20.\n",
      " 20. 20. 20. 20. 20. 20. 20. 20. 20. 20. 20.]\n"
     ]
    }
   ],
   "source": [
    "stefan_boltzman = 5.67 * 10**-5\n",
    "print(stefan_boltzman)\n",
    "sigma = 0.503\n",
    "T = np.zeros(space_mesh_divisions) + initial_temperature\n",
    "print(T)\n",
    "dx = sample_depth / (space_mesh_divisions - 1)\n",
    "k = 0.0002"
   ]
  },
  {
   "cell_type": "code",
   "execution_count": 28,
   "metadata": {},
   "outputs": [
    {
     "data": {
      "text/plain": [
       "45.26056875"
      ]
     },
     "execution_count": 28,
     "metadata": {},
     "output_type": "execute_result"
    }
   ],
   "source": [
    "2 * sigma * T[1] + (2*sigma*dx/k)*(20 - 0.015*T[0]/2 +)"
   ]
  },
  {
   "cell_type": "code",
   "execution_count": null,
   "metadata": {},
   "outputs": [],
   "source": []
  }
 ],
 "metadata": {
  "kernelspec": {
   "display_name": "Python 3",
   "language": "python",
   "name": "python3"
  },
  "language_info": {
   "codemirror_mode": {
    "name": "ipython",
    "version": 3
   },
   "file_extension": ".py",
   "mimetype": "text/x-python",
   "name": "python",
   "nbconvert_exporter": "python",
   "pygments_lexer": "ipython3",
   "version": "3.6.6"
  }
 },
 "nbformat": 4,
 "nbformat_minor": 2
}
